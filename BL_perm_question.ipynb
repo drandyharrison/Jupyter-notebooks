{
 "cells": [
  {
   "cell_type": "code",
   "execution_count": null,
   "metadata": {},
   "outputs": [],
   "source": [
    "import itertools\n",
    "import math\n",
    "import numpy as np\n",
    "\n",
    "# find all permutations of digits 1 -> 9\n",
    "all_perms = list(itertools.permutations([1,2,3,4,5,6,7,8,9]))\n",
    "print(all_perms[0:3])\n",
    "\n",
    "# sum elements\n",
    "# treats the permutation as 3 3-digit numbers to two digit numbers\n",
    "def sum_as_digits(perm):\n",
    "    a = perm[0] + (0.1 * perm[1]) + (0.01 * perm[2])\n",
    "    b = perm[3] + (0.1 * perm[4]) + (0.01 * perm[5])\n",
    "    c = perm[6] + (0.1 * perm[7]) + (0.01 * perm[8])\n",
    "    total = int(100 * (a + b + c))/100\n",
    "    return total\n",
    "\n",
    "summed = list(map(sum_as_digits, all_perms))\n",
    "print(summed[0:3])\n",
    "print('[' + str(all_perms[np.argmax(summed)]) + ']: ' + str(max(summed)))\n",
    "print('[' + str(all_perms[np.argmin(summed)]) + ']: ' + str(min(summed)))\n",
    "\n",
    "# difference from 10\n",
    "def diff_ten(val):\n",
    "    return abs(val - 10)\n",
    "\n",
    "diff10 = list(map(diff_ten, summed))\n",
    "print(diff10[0:3])\n",
    "print('[' + str(all_perms[np.argmin(diff10)]) + ']: ' + str(min(diff10)))"
   ]
  },
  {
   "cell_type": "code",
   "execution_count": null,
   "metadata": {},
   "outputs": [],
   "source": []
  }
 ],
 "metadata": {
  "kernelspec": {
   "display_name": "Python 3",
   "language": "python",
   "name": "python3"
  },
  "language_info": {
   "codemirror_mode": {
    "name": "ipython",
    "version": 3
   },
   "file_extension": ".py",
   "mimetype": "text/x-python",
   "name": "python",
   "nbconvert_exporter": "python",
   "pygments_lexer": "ipython3",
   "version": "3.7.1"
  }
 },
 "nbformat": 4,
 "nbformat_minor": 2
}
