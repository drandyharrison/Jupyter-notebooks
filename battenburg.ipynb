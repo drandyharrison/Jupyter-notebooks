{
 "cells": [
  {
   "cell_type": "markdown",
   "metadata": {},
   "source": [
    "# Battenburg problem"
   ]
  },
  {
   "cell_type": "markdown",
   "metadata": {},
   "source": [
    "Two candles are placed on a Battenburg at random then the cake is cut at a random point. What is the probability that the knife is between the two candles?\n"
   ]
  },
  {
   "cell_type": "code",
   "execution_count": null,
   "metadata": {},
   "outputs": [],
   "source": [
    "import numpy as np\n",
    "import matplotlib.pyplot as plt\n",
    "import seaborn as sns\n",
    "\n",
    "max_order = 9\n",
    "p_knife_between = np.zeros(max_order, dtype=float)\n",
    "sample_size = np.zeros(max_order, dtype=int)\n",
    "\n",
    "print('Chance knife is between candles\\n-------------------------------')\n",
    "for i in range(1, max_order):\n",
    "    sample_size[i] = 10 ** i\n",
    "    # sample locations for candles and knife\n",
    "    candle_1 = np.random.uniform(0, 1, sample_size[i])\n",
    "    candle_2 = np.random.uniform(0, 1, sample_size[i])\n",
    "    knife = np.random.uniform(0, 1, sample_size[i])\n",
    "    # how many times is the knife between candles\n",
    "    num_knife_between = np.logical_and(candle_1 < knife, candle_2 > knife).sum() + np.logical_and(candle_1 > knife, candle_2 < knife).sum() \n",
    "    p_knife_between[i] = num_knife_between/sample_size[i]\n",
    "    print('\\t[{}] {:08.6f}'.format(i, p_knife_between[i]))\n",
    "sns.set()\n",
    "_ = plt.semilogx(sample_size, p_knife_between, color='green')\n",
    "_ = plt.xlabel('sample size')\n",
    "_ = plt.ylabel('p(knife between candles)')\n",
    "_ = plt.title('Empirical estimate of battenburg problem')\n",
    "plt.show()\n",
    "print('finished')"
   ]
  },
  {
   "cell_type": "markdown",
   "metadata": {},
   "source": [
    "What's the analytical form?"
   ]
  },
  {
   "cell_type": "code",
   "execution_count": null,
   "metadata": {},
   "outputs": [],
   "source": [
    "# TODO error bars"
   ]
  }
 ],
 "metadata": {
  "kernelspec": {
   "display_name": "Python 3",
   "language": "python",
   "name": "python3"
  },
  "language_info": {
   "codemirror_mode": {
    "name": "ipython",
    "version": 3
   },
   "file_extension": ".py",
   "mimetype": "text/x-python",
   "name": "python",
   "nbconvert_exporter": "python",
   "pygments_lexer": "ipython3",
   "version": "3.7.1"
  }
 },
 "nbformat": 4,
 "nbformat_minor": 2
}
