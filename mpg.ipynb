{
 "cells": [
  {
   "cell_type": "markdown",
   "metadata": {},
   "source": [
    "# mpg"
   ]
  },
  {
   "cell_type": "code",
   "execution_count": null,
   "metadata": {},
   "outputs": [],
   "source": [
    "import pandas as pd\n",
    "import numpy as np\n",
    "import matplotlib.pyplot as plt\n",
    "import seaborn as sns"
   ]
  },
  {
   "cell_type": "markdown",
   "metadata": {},
   "source": [
    "Constants"
   ]
  },
  {
   "cell_type": "code",
   "execution_count": null,
   "metadata": {},
   "outputs": [],
   "source": [
    "win_size = 15          # size of the rolling window for calculating mpg\n",
    "l_per_gal = 4.54       # litres in a gallon"
   ]
  },
  {
   "cell_type": "markdown",
   "metadata": {},
   "source": [
    "## Read in CSV of mpg"
   ]
  },
  {
   "cell_type": "code",
   "execution_count": null,
   "metadata": {},
   "outputs": [],
   "source": [
    "mpg_csv = pd.read_csv('mpg.csv', header=0, index_col = 0, parse_dates=True, dayfirst=True, names=['Mileage', 'Fuel', 'Cost', 'Unit price'])\n",
    "print('Input data\\n----------')\n",
    "print(mpg_csv.head())\n",
    "\n",
    "# validate input\n",
    "mpg_csv['check_sum'] = (mpg_csv['Fuel'] * mpg_csv['Unit price']).round(decimals=2)\n",
    "mpg_csv['invalid'] = mpg_csv['Cost'] != mpg_csv['check_sum']\n",
    "invalid_mpg = mpg_csv[mpg_csv['invalid']]\n",
    "print('\\nInvalid entries\\n---------------')\n",
    "print(invalid_mpg)"
   ]
  },
  {
   "cell_type": "code",
   "execution_count": null,
   "metadata": {},
   "outputs": [],
   "source": [
    "# parse to dates as the index\n",
    "# mpg_csv['Date'] =  pd.to_datetime(mpg_csv['Date'], format='%d/%m/%y')"
   ]
  },
  {
   "cell_type": "code",
   "execution_count": null,
   "metadata": {},
   "outputs": [],
   "source": [
    "mpg_csv['mpg'] = (l_per_gal * mpg_csv['Mileage'].diff(periods=win_size-1)/mpg_csv['Fuel'].rolling(window=win_size).sum()).round(decimals=2)\n",
    "print(mpg_csv.head(2*win_size))\n",
    "# to check calculate against here against calculation in original Excel\n",
    "#mpg_csv.to_csv('mpg_new.csv')"
   ]
  },
  {
   "cell_type": "code",
   "execution_count": null,
   "metadata": {},
   "outputs": [],
   "source": [
    "sns.set()\n",
    "mpg_csv['mpg'][win_size-1:].plot(figsize=(12,8))\n",
    "_ = plt.xlabel('date')\n",
    "_ = plt.ylabel('mpg')\n",
    "_ = plt.ylim((30,65))\n",
    "#_ = plt.axis('tight')\n",
    "# TODO more uniform sampling - does this go back to (upsampling) resampling and interpolation of eariler data\n",
    "dates = mpg_csv.index.to_numpy()[::win_size]\n",
    "labels = np.datetime_as_string(dates, unit='M')\n",
    "plt.xticks(dates, labels, rotation=60)\n",
    "#plt.grid(True)\n",
    "plt.show()"
   ]
  },
  {
   "cell_type": "markdown",
   "metadata": {},
   "source": [
    "Annual mileage"
   ]
  },
  {
   "cell_type": "code",
   "execution_count": null,
   "metadata": {},
   "outputs": [],
   "source": [
    "annual_mileage = pd.DataFrame(mpg_csv['Mileage'].resample('D').interpolate('time'))\n",
    "annual_mileage['Annual mileage'] = annual_mileage.diff(periods=365)\n",
    "annual_mileage = annual_mileage.resample('M').min()\n",
    "annual_mileage = annual_mileage.drop('Mileage', axis=1)\n",
    "annual_mileage = annual_mileage[12:]                      # remove NaN rows\n",
    "print(annual_mileage.head())\n",
    "sns.set()\n",
    "annual_mileage.plot(figsize=(12,8))\n",
    "_ = plt.xlabel('date')\n",
    "_ = plt.ylabel('mileage')"
   ]
  },
  {
   "cell_type": "markdown",
   "metadata": {},
   "source": [
    "Monthly fuel spend"
   ]
  },
  {
   "cell_type": "code",
   "execution_count": null,
   "metadata": {},
   "outputs": [],
   "source": [
    "monthly_spend = pd.DataFrame(mpg_csv['Cost'].resample('M').sum())\n",
    "print(monthly_spend.head())\n",
    "sns.set()\n",
    "monthly_spend.plot(figsize=(18,6))\n",
    "_ = plt.xlabel('date')\n",
    "_ = plt.ylabel('fuel spend')"
   ]
  },
  {
   "cell_type": "code",
   "execution_count": null,
   "metadata": {},
   "outputs": [],
   "source": []
  }
 ],
 "metadata": {
  "kernelspec": {
   "display_name": "Python 3",
   "language": "python",
   "name": "python3"
  },
  "language_info": {
   "codemirror_mode": {
    "name": "ipython",
    "version": 3
   },
   "file_extension": ".py",
   "mimetype": "text/x-python",
   "name": "python",
   "nbconvert_exporter": "python",
   "pygments_lexer": "ipython3",
   "version": "3.7.1"
  }
 },
 "nbformat": 4,
 "nbformat_minor": 2
}
