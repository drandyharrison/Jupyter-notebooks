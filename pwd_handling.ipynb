{
 "cells": [
  {
   "cell_type": "markdown",
   "metadata": {},
   "source": [
    "# How to safely store your users' password"
   ]
  },
  {
   "cell_type": "code",
   "execution_count": 1,
   "metadata": {},
   "outputs": [
    {
     "name": "stdout",
     "output_type": "stream",
     "text": [
      "b'$2b$12$S5fzhVhqrCgnGNutgQ4sN.qVHInrRvMMZRMWuVrsZAe4MoHlW/3v.'\n",
      "valid pwd\n"
     ]
    }
   ],
   "source": [
    "import bcrypt\n",
    "\n",
    "userspwd = b'welcome'\n",
    "\n",
    "# Calculating a hash\n",
    "salt = bcrypt.gensalt()\n",
    "hash = bcrypt.hashpw(userspwd, salt)\n",
    "print(hash)\n",
    "\n",
    "# Validating a hash\n",
    "if bcrypt.checkpw(userspwd, hash):\n",
    "    print('valid pwd')"
   ]
  },
  {
   "cell_type": "code",
   "execution_count": null,
   "metadata": {},
   "outputs": [],
   "source": []
  }
 ],
 "metadata": {
  "kernelspec": {
   "display_name": "Python 3",
   "language": "python",
   "name": "python3"
  },
  "language_info": {
   "codemirror_mode": {
    "name": "ipython",
    "version": 3
   },
   "file_extension": ".py",
   "mimetype": "text/x-python",
   "name": "python",
   "nbconvert_exporter": "python",
   "pygments_lexer": "ipython3",
   "version": "3.7.7"
  }
 },
 "nbformat": 4,
 "nbformat_minor": 2
}
