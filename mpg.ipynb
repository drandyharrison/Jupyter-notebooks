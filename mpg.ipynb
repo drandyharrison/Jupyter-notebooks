{
 "cells": [
  {
   "cell_type": "markdown",
   "metadata": {},
   "source": [
    "# mpg"
   ]
  },
  {
   "cell_type": "code",
   "execution_count": null,
   "metadata": {},
   "outputs": [],
   "source": [
    "import pandas as pd\n",
    "import numpy as np\n",
    "import matplotlib.pyplot as plt\n",
    "import seaborn as sns\n",
    "from sqlalchemy import create_engine\n",
    "from datetime import datetime\n",
    "import dateutil"
   ]
  },
  {
   "cell_type": "code",
   "execution_count": null,
   "metadata": {},
   "outputs": [],
   "source": [
    "# Constants\n",
    "win_size = 15                # size of the rolling window for calculating mpg\n",
    "l_per_gal = 4.54             # litres in a gallon\n",
    "from_csv = False\n",
    "from_sqlite = not from_csv   # csv or sqlite, mutually exclusive\n",
    "debug = False                # controls whether debug output is included\n",
    "db_name = 'mpg.sqlite'\n",
    "table_name = 'mpg'"
   ]
  },
  {
   "cell_type": "code",
   "execution_count": null,
   "metadata": {},
   "outputs": [],
   "source": [
    "# read in mpg data from CSV\n",
    "if from_csv:\n",
    "    mpg_data = pd.read_csv('mpg.csv', header=0, index_col = 0, parse_dates=True, dayfirst=True, \n",
    "                          names=['Mileage', 'Fuel', 'Cost', 'Unit price'])"
   ]
  },
  {
   "cell_type": "code",
   "execution_count": null,
   "metadata": {},
   "outputs": [],
   "source": [
    "# read in mpg data from sqlite db\n",
    "if from_sqlite:\n",
    "    engine = create_engine(\"sqlite:///\"+db_name)\n",
    "    mpg_data = pd.read_sql(\"SELECT * FROM \"+table_name, engine)\n",
    "    mpg_data.set_index('Date', inplace=True)\n",
    "    mpg_data.index = pd.to_datetime(mpg_data.index, dayfirst=True)\n",
    "    mpg_data.columns = ['Mileage', 'Fuel', 'Cost', 'Unit price']"
   ]
  },
  {
   "cell_type": "code",
   "execution_count": null,
   "metadata": {},
   "outputs": [],
   "source": [
    "# peek at the data\n",
    "if debug:\n",
    "    print(mpg_data.head())\n",
    "    print(type(mpg_data.index))\n",
    "    print(mpg_data.index)"
   ]
  },
  {
   "cell_type": "code",
   "execution_count": null,
   "metadata": {},
   "outputs": [],
   "source": [
    "# validate input\n",
    "print('Input data\\n----------')\n",
    "print(mpg_data.head())\n",
    "\n",
    "mpg_data['check_sum'] = (mpg_data['Fuel'] * mpg_data['Unit price']).round(decimals=2)\n",
    "mpg_data['invalid'] = mpg_data['Cost'] != mpg_data['check_sum']\n",
    "invalid_mpg = mpg_data[mpg_data['invalid']]\n",
    "print('\\nInvalid entries\\n---------------')\n",
    "print(invalid_mpg)"
   ]
  },
  {
   "cell_type": "code",
   "execution_count": null,
   "metadata": {},
   "outputs": [],
   "source": [
    "mpg_data['mpg'] = (l_per_gal * mpg_data['Mileage'].diff(periods=win_size-1)/mpg_data['Fuel'].rolling(window=win_size).sum()).round(decimals=2)\n",
    "if debug:\n",
    "    print(mpg_data.head(2*win_size))\n",
    "    print(mpg_data.tail(win_size))"
   ]
  },
  {
   "cell_type": "code",
   "execution_count": null,
   "metadata": {},
   "outputs": [],
   "source": [
    "# plot mpg\n",
    "sns.set()\n",
    "mpg_data['mpg'][win_size-1:].plot(figsize=(12,8))\n",
    "_ = plt.xlabel('date')\n",
    "_ = plt.ylabel('mpg')\n",
    "_ = plt.ylim((30,65))\n",
    "#_ = plt.axis('tight')\n",
    "# TODO more uniform sampling - does this go back to (upsampling) resampling and interpolation of eariler data\n",
    "dates = mpg_data.index.to_numpy()[::win_size]\n",
    "if debug:\n",
    "    print(dates)\n",
    "labels = np.datetime_as_string(dates, unit='M')\n",
    "_ = plt.xticks(dates, labels, rotation=60)\n",
    "_ = plt.title('mpg')\n",
    "print(mpg_data.tail())\n",
    "#plt.grid(True)"
   ]
  },
  {
   "cell_type": "markdown",
   "metadata": {},
   "source": [
    "Annual mileage"
   ]
  },
  {
   "cell_type": "code",
   "execution_count": null,
   "metadata": {},
   "outputs": [],
   "source": [
    "annual_mileage = pd.DataFrame(mpg_data['Mileage'].resample('D').interpolate('time'))\n",
    "annual_mileage['Annual mileage'] = annual_mileage.diff(periods=365)\n",
    "annual_mileage = annual_mileage.resample('M').min()\n",
    "annual_mileage = annual_mileage.drop('Mileage', axis=1)\n",
    "annual_mileage = annual_mileage[12:]                      # remove NaN rows\n",
    "if debug:\n",
    "    print(annual_mileage.head())\n",
    "sns.set()\n",
    "annual_mileage.plot(figsize=(12,8), legend=False)\n",
    "_ = plt.xlabel('date')\n",
    "_ = plt.ylabel('mileage')\n",
    "_ = plt.title('Annual mileage')"
   ]
  },
  {
   "cell_type": "markdown",
   "metadata": {},
   "source": [
    "Monthly fuel spend (moving average)"
   ]
  },
  {
   "cell_type": "code",
   "execution_count": null,
   "metadata": {},
   "outputs": [],
   "source": [
    "monthly_spend = pd.DataFrame(mpg_data['Cost'].resample('M').sum()).rolling(6, center=True).mean()\n",
    "if debug:\n",
    "    print(monthly_spend.head())\n",
    "    print(monthly_spend.tail())\n",
    "sns.set()\n",
    "monthly_spend.plot(figsize=(18,6), legend=False)\n",
    "_ = plt.xlabel('date')\n",
    "_ = plt.ylabel('fuel spend')\n",
    "_ = plt.title('Monthly fuel spend (moving average)')"
   ]
  },
  {
   "cell_type": "code",
   "execution_count": null,
   "metadata": {},
   "outputs": [],
   "source": []
  }
 ],
 "metadata": {
  "kernelspec": {
   "display_name": "Python 3",
   "language": "python",
   "name": "python3"
  },
  "language_info": {
   "codemirror_mode": {
    "name": "ipython",
    "version": 3
   },
   "file_extension": ".py",
   "mimetype": "text/x-python",
   "name": "python",
   "nbconvert_exporter": "python",
   "pygments_lexer": "ipython3",
   "version": "3.7.1"
  }
 },
 "nbformat": 4,
 "nbformat_minor": 2
}
