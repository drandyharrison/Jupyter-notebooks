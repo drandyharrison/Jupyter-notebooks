{
 "cells": [
  {
   "cell_type": "code",
   "execution_count": null,
   "metadata": {},
   "outputs": [],
   "source": [
    "import pandas as pd\n",
    "import matplotlib.pyplot as plt"
   ]
  },
  {
   "cell_type": "code",
   "execution_count": null,
   "metadata": {},
   "outputs": [],
   "source": [
    "# read in data (12 month-ending provisional counts and percent change of drug overdose death)\n",
    "cdc_data = pd.read_csv('https://data.cdc.gov/api/views/xkb8-kh2a/rows.csv?accessType=DOWNLOAD&bom=true&format=true')\n",
    "print(\"Number of periods not '12 month-ending': \" + str(cdc_data[cdc_data['Period'] != '12 month-ending']['Period'].count()))\n",
    "cdc_data.drop(columns=['Period', 'Footnote', 'Footnote Symbol', 'Predicted Value', 'State Name'], inplace=True)"
   ]
  },
  {
   "cell_type": "markdown",
   "metadata": {},
   "source": [
    "### Exploratory Data Analysis"
   ]
  },
  {
   "cell_type": "code",
   "execution_count": null,
   "metadata": {},
   "outputs": [],
   "source": [
    "print(cdc_data.columns)\n",
    "cdc_data.info()\n",
    "#print(df.loc[:,'State'].value_counts(dropna=False))\n",
    "#print(df.loc[:,'State Name'].value_counts(dropna=False))\n",
    "#print(df.loc[:,'Year'].value_counts(dropna=False))\n",
    "#print(df.loc[:,'Month'].value_counts(dropna=False))"
   ]
  },
  {
   "cell_type": "code",
   "execution_count": null,
   "metadata": {},
   "outputs": [],
   "source": [
    "print(cdc_data.loc[:,'Indicator'].value_counts(dropna=False))\n",
    "print(cdc_data.loc[:,'Percent Complete'].value_counts(dropna=False))\n",
    "#print(cdc_data.loc[:,'Percent Pending Investigation'].value_counts(dropna=False))\n",
    "print(cdc_data.head())"
   ]
  },
  {
   "cell_type": "markdown",
   "metadata": {},
   "source": [
    "**Explore the numeric data, grouped by indicators - do they add up?**"
   ]
  },
  {
   "cell_type": "markdown",
   "metadata": {},
   "source": [
    "## Visual Exploratory Data Analysis"
   ]
  },
  {
   "cell_type": "code",
   "execution_count": null,
   "metadata": {},
   "outputs": [],
   "source": [
    "# create DateTimeIndex from 'Year' and 'Month' columns to plot number of deaths by state against (stack graph)\n",
    "cdc_data.index = pd.to_datetime(cdc_data['Year'].astype('str') + cdc_data['Month'], format='%Y%B')\n",
    "cdc_data.drop(columns=['Year', 'Month'], inplace=True)\n",
    "# extract the data for 'Number of Drug Overdose Deaths' indicator and convert data values from strings to floats\n",
    "deaths_by_state = cdc_data[cdc_data['Indicator'] == 'Number of Drug Overdose Deaths'].loc[:, ['State', 'Data Value']]\n",
    "deaths_by_state['Data Value'] = deaths_by_state['Data Value'].str.replace(',', '').astype(float)\n",
    "# sort data by date then state\n",
    "deaths_by_state.index.names = ['Date']\n",
    "deaths_by_state.sort_values(by=['Date', 'State'], inplace=True)"
   ]
  },
  {
   "cell_type": "code",
   "execution_count": null,
   "metadata": {},
   "outputs": [],
   "source": [
    "# pivot on State\n",
    "deaths_by_state2 = deaths_by_state.pivot(columns='State')\n",
    "deaths_by_state2.columns = deaths_by_state2.columns.droplevel(0)\n",
    "# check wheter US number matches all the other totals\n",
    "df_check = deaths_by_state2.sum(axis=1)/deaths_by_state2['US']\n",
    "# if all entries are 2.0, US is total of rest\n",
    "if (((df_check == 2.0).count()) == (df_check.count())):\n",
    "    # drop US number\n",
    "    deaths_by_state2.drop(columns=['US'], inplace=True)\n",
    "deaths_by_state2.head()"
   ]
  },
  {
   "cell_type": "code",
   "execution_count": null,
   "metadata": {},
   "outputs": [],
   "source": [
    "# make index just month and year, rather than DateTimeIndex - to make a neater plot\n",
    "deaths_by_state2 = deaths_by_state2.assign(Month_Year=deaths_by_state2.index.strftime(\"%b-%Y\"))\n",
    "deaths_by_state2.set_index('Month_Year', inplace=True)\n",
    "deaths_by_state2.head()"
   ]
  },
  {
   "cell_type": "code",
   "execution_count": null,
   "metadata": {},
   "outputs": [],
   "source": [
    "# plot the deaths by state as a stacked bar chart\n",
    "_ = deaths_by_state2.plot.bar(stacked=True, figsize=(16,8), legend=False)\n",
    "_ = plt.ylabel('Number of Drug Overdose Deaths')\n",
    "_ = plt.title('CDC data')\n",
    "#_ = plt.legend(loc='upper right', labels=deaths_by_state2.columns)\n",
    "plt.show()"
   ]
  },
  {
   "cell_type": "markdown",
   "metadata": {},
   "source": [
    "Explore the percent complete fields"
   ]
  },
  {
   "cell_type": "code",
   "execution_count": null,
   "metadata": {},
   "outputs": [],
   "source": [
    "print(\"Number of not complete: \" + str(cdc_data[cdc_data['Percent Complete'] != '100']['Percent Complete'].count()))\n",
    "print(cdc_data['Percent Complete'].unique())\n",
    "cdc_data['Percent Complete'] = cdc_data['Percent Complete'].str.replace('99.5+', '99.5', regex=False).astype('float')\n",
    "print(cdc_data['Percent Complete'].unique())\n",
    "cdc_data = cdc_data.assign(Total_Percent=cdc_data['Percent Complete'] + cdc_data['Percent Pending Investigation'])\n",
    "incomplete_data = cdc_data[abs(cdc_data['Total_Percent'] - 100.0) > 1.0].loc[:, ['State', 'Total_Percent']]\n",
    "print(incomplete_data)"
   ]
  },
  {
   "cell_type": "markdown",
   "metadata": {},
   "source": [
    "Map the rather verbose indicator descriptions into something more concise"
   ]
  },
  {
   "cell_type": "code",
   "execution_count": null,
   "metadata": {},
   "outputs": [],
   "source": [
    "#print(df['Indicator'].unique())\n",
    "indicator_map = {'Opioids (T40.0-T40.4,T40.6)' : 'Opiods',\n",
    "                 'Natural & semi-synthetic opioids, incl. methadone (T40.2, T40.3)' : 'Natural and semi-synthetic opiods',\n",
    "                 'Cocaine (T40.5)' : 'Cocaine',\n",
    "                 'Percent with drugs specified' : '% drug specified',\n",
    "                 'Psychostimulants with abuse potential (T43.6)' : 'Psychostimulants',\n",
    "                 'Heroin (T40.1)' : 'Heroin',\n",
    "                 'Number of Deaths' : 'Number of Deaths',\n",
    "                 'Natural, semi-synthetic, & synthetic opioids, incl. methadone (T40.2-T40.4)' : 'All opioids',\n",
    "                 'Natural & semi-synthetic opioids (T40.2)' : 'Natural and semi-synthetic opiods (2)',\n",
    "                 'Number of Drug Overdose Deaths' : 'Number of Drug Overdose Deaths',\n",
    "                 'Methadone (T40.3)' : 'Methadone',\n",
    "                 'Synthetic opioids, excl. methadone (T40.4)' : 'Synthetic opiods'}\n",
    "cdc_data['Indicator'] = cdc_data['Indicator'].map(indicator_map)\n",
    "#print(df.head())"
   ]
  },
  {
   "cell_type": "markdown",
   "metadata": {},
   "source": [
    "### Determine the annual drug overdose deaths"
   ]
  },
  {
   "cell_type": "code",
   "execution_count": null,
   "metadata": {},
   "outputs": [],
   "source": [
    "overdose_deaths_us = deaths_by_state[deaths_by_state['State'] == 'US']\n",
    "# TODO is the arbitrary choice of October for annual numbers the best (correct) choice?\n",
    "annual_deaths = overdose_deaths_us[overdose_deaths_us.index.month == 10]\n",
    "annual_deaths = annual_deaths.assign(Year = pd.Series(annual_deaths.index.year, index=annual_deaths.index))\n",
    "annual_deaths.set_index('Year', inplace=True)\n",
    "annual_deaths.drop(columns=['State'], inplace=True)\n",
    "annual_deaths.rename(columns={'Data Value':'Overdose deaths'}, inplace=True)\n",
    "print(annual_deaths)"
   ]
  },
  {
   "cell_type": "code",
   "execution_count": null,
   "metadata": {},
   "outputs": [],
   "source": [
    "# plot the annual numbers\n",
    "_ = annual_deaths.plot.bar(legend=False)\n",
    "_ = plt.ylabel('Number of overdose deaths in US')\n",
    "plt.show()"
   ]
  },
  {
   "cell_type": "markdown",
   "metadata": {},
   "source": [
    "**Hypothesis to test**: The annual number of deaths due to drug overdoses in the US has fallen from 2017 to 2018.\n",
    "\n",
    "The CDC numbers indicate that there were 68,500 drug overdose deaths in the US in 2018, down from 72,000 the previous year.\n",
    "The CDC data show that overdose deaths from fentanyl, syntheric opiods, cocaine and methamphetamines are still increasing.\n",
    "\n",
    "*What are the set of observations that we can bootstrap?*\n",
    "\n",
    "*What is the test stastistic?*"
   ]
  },
  {
   "cell_type": "code",
   "execution_count": null,
   "metadata": {},
   "outputs": [],
   "source": []
  }
 ],
 "metadata": {
  "kernelspec": {
   "display_name": "Python 3",
   "language": "python",
   "name": "python3"
  },
  "language_info": {
   "codemirror_mode": {
    "name": "ipython",
    "version": 3
   },
   "file_extension": ".py",
   "mimetype": "text/x-python",
   "name": "python",
   "nbconvert_exporter": "python",
   "pygments_lexer": "ipython3",
   "version": "3.7.1"
  }
 },
 "nbformat": 4,
 "nbformat_minor": 2
}
