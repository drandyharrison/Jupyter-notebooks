{
 "cells": [
  {
   "cell_type": "code",
   "execution_count": null,
   "metadata": {},
   "outputs": [],
   "source": [
    "import pandas as pd\n",
    "from sqlalchemy import create_engine\n",
    "\n",
    "def csv_to_sqlite(csv_name, db_name, table_name):\n",
    "    \"\"\"Populate a sqlite DB from a CSV\"\"\"\n",
    "    csv_df = pd.read_csv(csv_name)\n",
    "    print(csv_df.head())\n",
    "    print(csv_df.tail())\n",
    "    engine = create_engine(\"sqlite:///\"+db_name)\n",
    "    csv_df.to_sql('mpg', engine, if_exists='append', index=False)\n",
    "\n",
    "# ---------------------------------\n",
    "# ----------- Main body -----------\n",
    "# ---------------------------------\n",
    "\n",
    "csv_name = 'mpg.csv'\n",
    "db_name = 'mpg.sqlite'\n",
    "table_name = 'mpg'\n",
    "\n",
    "csv_to_sqlite(csv_name, db_name, table_name)\n",
    "\n",
    "# TODO read data into a DataFrame\n",
    "engine = create_engine(\"sqlite:///\"+db_name)\n",
    "sqlite_df = pd.read_sql(\"SELECT * FROM \"+table_name, engine)\n",
    "print(sqlite_df.head())\n",
    "print(sqlite_df.tail())"
   ]
  },
  {
   "cell_type": "code",
   "execution_count": null,
   "metadata": {},
   "outputs": [],
   "source": [
    "import pandas as pd\n",
    "from sqlalchemy import create_engine\n",
    "\n",
    "def sqlite_to_df(db_name, table_name):\n",
    "    engine = create_engine(\"sqlite:///\"+db_name)\n",
    "    df = pd.read_sql(\"SELECT * FROM \"+table_name, engine)\n",
    "    \n",
    "    return df\n",
    "\n",
    "db_name = 'mpg.db'\n",
    "table_name = 'mpg'\n",
    "\n",
    "df = sqlite_to_df(db_name, table_name)\n",
    "\n",
    "df.head()"
   ]
  },
  {
   "cell_type": "code",
   "execution_count": null,
   "metadata": {},
   "outputs": [],
   "source": []
  }
 ],
 "metadata": {
  "kernelspec": {
   "display_name": "Python 3",
   "language": "python",
   "name": "python3"
  },
  "language_info": {
   "codemirror_mode": {
    "name": "ipython",
    "version": 3
   },
   "file_extension": ".py",
   "mimetype": "text/x-python",
   "name": "python",
   "nbconvert_exporter": "python",
   "pygments_lexer": "ipython3",
   "version": "3.7.1"
  }
 },
 "nbformat": 4,
 "nbformat_minor": 2
}
